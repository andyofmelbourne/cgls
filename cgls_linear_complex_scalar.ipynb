{
 "metadata": {
  "name": "cgls_linear_complex_scalar"
 },
 "nbformat": 3,
 "nbformat_minor": 0,
 "worksheets": [
  {
   "cells": [
    {
     "cell_type": "code",
     "collapsed": false,
     "input": [
      "import numpy as np\n",
      "%pylab inline"
     ],
     "language": "python",
     "metadata": {},
     "outputs": [
      {
       "output_type": "stream",
       "stream": "stdout",
       "text": [
        "Populating the interactive namespace from numpy and matplotlib\n"
       ]
      }
     ],
     "prompt_number": 1
    },
    {
     "cell_type": "markdown",
     "metadata": {},
     "source": [
      "Minimise:\n",
      "<math>\n",
      "    \\begin{align}\n",
      "       f(z) \\equiv f(z, z^*) = f(x, y) \\\\\n",
      "    \\end{align}\n",
      "</math>\n",
      "\n",
      "where \n",
      "\n",
      "<math>\n",
      "    \\begin{align}\n",
      "       z &= \n",
      "    \\begin{pmatrix}\n",
      "    x \\\\\n",
      "    y\n",
      "    \\end{pmatrix}\n",
      "    \\end{align}\n",
      "</math>\n"
     ]
    },
    {
     "cell_type": "markdown",
     "metadata": {},
     "source": [
      "Let's say that:\n",
      "<math>\n",
      "    \\begin{align}\n",
      "       f(z) &= \\|A' \\cdot z - b' \\| \\\\\n",
      "            &= z^H A^{'H} A' z - b^{'H} A' z - z^H A^{'H} b' + \\| b' \\| \\\\\n",
      "            &= \n",
      "    \\begin{bmatrix} x & y \\end{bmatrix} C \\cdot A^{'H} \\cdot A' \\begin{pmatrix} x \\\\ y \\end{pmatrix}\n",
      "    - 2 b^{'H} A' \\begin{pmatrix} x \\\\ y \\end{pmatrix} + \\| b' \\| \\\\\n",
      "    \\end{align}\n",
      "</math>\n",
      "\n",
      "So we have the correspondance:\n",
      "<math>\n",
      "    \\begin{align}\n",
      "        x &\\rightarrow \\begin{pmatrix} x \\\\ y \\end{pmatrix} \\\\\n",
      "        A &\\rightarrow 2 \\times C \\cdot A^{'H} \\cdot A' \\\\\n",
      "        b &\\rightarrow 2 b^{'H} A' \\\\\n",
      "        \\| b' \\| &\\rightarrow c\n",
      "    \\end{align}\n",
      "</math>\n",
      "\n"
     ]
    },
    {
     "cell_type": "heading",
     "level": 3,
     "metadata": {},
     "source": [
      "Steepest Descent:"
     ]
    },
    {
     "cell_type": "markdown",
     "metadata": {},
     "source": [
      "For real values (pg. 14 of painless-conjugate-gradient.pdf):\n",
      "<math>\n",
      "    \\begin{align}\n",
      "        \\alpha_i &= \\frac{r^T_i r_i}{r^T_i A r_i} \\\\\n",
      "        x_{i+1} &= x_i + \\alpha_i r_i \\\\\n",
      "        r_{i+1} &= r_i - \\alpha_i A r_i\n",
      "    \\end{align}\n",
      "</math>"
     ]
    },
    {
     "cell_type": "code",
     "collapsed": false,
     "input": [
      "def myShow(X, Y, Z, xs = None, xlabel = None, xdot=None, ydot=None, title = None):\n",
      "    gs = GridSpec(1, 1)\n",
      "    gs.update(top = 0.95, bottom = 0.02,left=0.02, right=0.98, hspace=0.2,wspace=0.05)\n",
      "    ax = plt.subplot(gs[0, 0])\n",
      "    m = 300\n",
      "    V = np.array(range(50))**2 * np.sqrt(Z.max() - Z.min()) / np.float(m - 1) + Z.min()\n",
      "    \n",
      "    ax.contourf(X, Y, Z, V, alpha=.75, cmap=cm.RdBu)\n",
      "    #imshow(ff(X,Y), origin='lower', interpolation = 'none', cmap = 'RdBu', alpha=0.1)\n",
      "    C = ax.contour(X, Y, Z, V, colors='black', linewidth=.3, alpha=0.5)\n",
      "    #clabel(C, inline=1, fontsize=10)\n",
      "    #xticks([]), yticks([])\n",
      "    # put the axes in the centre\n",
      "    ax.spines['right'].set_color('none')\n",
      "    ax.spines['top'].set_color('none')\n",
      "    ax.xaxis.set_ticks_position('bottom')\n",
      "    ax.spines['bottom'].set_position(('data',0))\n",
      "    ax.yaxis.set_ticks_position('left')\n",
      "    ax.spines['left'].set_position(('data',0))\n",
      "    # put white boxes around the labels\n",
      "    for label in ax.get_xticklabels() + ax.get_yticklabels():\n",
      "        label.set_fontsize(10)\n",
      "        label.set_bbox(dict(facecolor='white', edgecolor='None', alpha=0.35 ))\n",
      "    if xdot != None and ydot != None :\n",
      "        ax.plot([xdot,xdot],[ydot,ydot], label=xlabel, marker='o', color='black')\n",
      "    if xlabel != None:\n",
      "        ax.legend(loc='upper left')\n",
      "    if xs != None:\n",
      "        x = []\n",
      "        y = []\n",
      "        for xx,yy in xs:\n",
      "            x.append(xx)\n",
      "            y.append(yy)    \n",
      "        ax.plot(x, y)\n",
      "    if title !=None:\n",
      "        ax.set_title(title, fontsize=18, position=(0.5, 1.01))\n",
      "    fig = plt.gcf()\n",
      "    fig.set_size_inches(10, 5)\n",
      "    plt.show() "
     ],
     "language": "python",
     "metadata": {},
     "outputs": [],
     "prompt_number": 2
    },
    {
     "cell_type": "code",
     "collapsed": false,
     "input": [
      "from cgls import *\n",
      "\n",
      "def f(z):\n",
      "    \"\"\"This is the quadratic metric to minimise.\n",
      "    \n",
      "    Here f(z) = || (1 + 2i) . z - (-5 + 10i) ||\n",
      "              = 5 zz* + (18 + i) z + (18 - i) z* + 65\n",
      "              = zH . A . z - bT . z - bH . z* + c\n",
      "    And so:\n",
      "    A = 5\n",
      "    b = -18 - i\n",
      "    c = 65\n",
      "    \"\"\"\n",
      "    out = 5.0 * np.conj(z) * z + (18.0 + 1.0J) * z + (18.0 - 1.0J) * np.conj(z) + 65.0\n",
      "    return np.real(out)\n",
      "\n",
      "# Treat this as an R^2n --> R^2n problem\n",
      "\n"
     ],
     "language": "python",
     "metadata": {},
     "outputs": [
      {
       "ename": "ImportError",
       "evalue": "No module named cgls",
       "output_type": "pyerr",
       "traceback": [
        "\u001b[0;31m---------------------------------------------------------------------------\u001b[0m\n\u001b[0;31mImportError\u001b[0m                               Traceback (most recent call last)",
        "\u001b[0;32m<ipython-input-3-d2a085f20a1a>\u001b[0m in \u001b[0;36m<module>\u001b[0;34m()\u001b[0m\n\u001b[0;32m----> 1\u001b[0;31m \u001b[0;32mfrom\u001b[0m \u001b[0mcgls\u001b[0m \u001b[0;32mimport\u001b[0m \u001b[0;34m*\u001b[0m\u001b[0;34m\u001b[0m\u001b[0m\n\u001b[0m\u001b[1;32m      2\u001b[0m \u001b[0;34m\u001b[0m\u001b[0m\n\u001b[1;32m      3\u001b[0m \u001b[0;32mdef\u001b[0m \u001b[0mf\u001b[0m\u001b[0;34m(\u001b[0m\u001b[0mz\u001b[0m\u001b[0;34m)\u001b[0m\u001b[0;34m:\u001b[0m\u001b[0;34m\u001b[0m\u001b[0m\n\u001b[1;32m      4\u001b[0m     \"\"\"This is the quadratic metric to minimise.\n\u001b[1;32m      5\u001b[0m \u001b[0;34m\u001b[0m\u001b[0m\n",
        "\u001b[0;31mImportError\u001b[0m: No module named cgls"
       ]
      }
     ],
     "prompt_number": 3
    },
    {
     "cell_type": "code",
     "collapsed": false,
     "input": [],
     "language": "python",
     "metadata": {},
     "outputs": []
    }
   ],
   "metadata": {}
  }
 ]
}